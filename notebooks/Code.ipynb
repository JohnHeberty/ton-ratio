{
 "cells": [
  {
   "cell_type": "markdown",
   "id": "b8f76dc0",
   "metadata": {},
   "source": [
    "# VOLTANDO UMA PASTA PARA TRAZ"
   ]
  },
  {
   "cell_type": "code",
   "execution_count": null,
   "id": "f47b52bf",
   "metadata": {},
   "outputs": [],
   "source": [
    "import os\n",
    "os.chdir(\"../\")"
   ]
  },
  {
   "cell_type": "markdown",
   "id": "34bdd2f8",
   "metadata": {},
   "source": [
    "# DOWNLOAD DOS ARQUIVOS"
   ]
  },
  {
   "cell_type": "code",
   "execution_count": null,
   "id": "29f26e7b",
   "metadata": {},
   "outputs": [],
   "source": [
    "from modules.ComexStatDownloader import ComexStatDownloader\n",
    "\n",
    "CSD = ComexStatDownloader()\n",
    "CSD.download_files()"
   ]
  },
  {
   "cell_type": "markdown",
   "id": "152f1fd4",
   "metadata": {},
   "source": [
    "# CONEXÃO COM BANCO"
   ]
  },
  {
   "cell_type": "code",
   "execution_count": null,
   "id": "be6dbd6d",
   "metadata": {},
   "outputs": [],
   "source": [
    "from modules.database.postgres_connection import PostgresConnection\n",
    "from modules.database.database_manager import DatabaseManager\n",
    "\n",
    "host    = \"localhost\"\n",
    "db      = \"comexstat\"\n",
    "user    = \"postgres\"\n",
    "pwd     = \"postgres\"  # Substitua pela sua senha real\n",
    "\n",
    "# Certifique-se de definir as variáveis host, db, user, pwd antes de usar\n",
    "conn = PostgresConnection(host, db, user, pwd)\n",
    "conn.connect()\n",
    "db_manager = DatabaseManager(conn)\n",
    "\n"
   ]
  },
  {
   "cell_type": "markdown",
   "id": "e1b523d2",
   "metadata": {},
   "source": [
    "# CRIANDO TABELAS NO BANCO"
   ]
  },
  {
   "cell_type": "code",
   "execution_count": null,
   "id": "1afac713",
   "metadata": {},
   "outputs": [],
   "source": [
    "# Cria as tabelas no banco de dados\n",
    "with open(\"repository\\\\querys\\\\create_table.sql\", \"r\") as file:\n",
    "    create_tables_sql = file.read()\n",
    "    db_manager.execute_raw(create_tables_sql)"
   ]
  },
  {
   "cell_type": "markdown",
   "id": "e5aa832b",
   "metadata": {},
   "source": [
    "# CARREGANDO DADOS NO BANCO"
   ]
  },
  {
   "cell_type": "code",
   "execution_count": null,
   "id": "e95fa459",
   "metadata": {},
   "outputs": [],
   "source": [
    "from jinja2 import Template\n",
    "import pandas as pd\n",
    "import os\n",
    "\n",
    "# Insere os dados no banco de dados\n",
    "base_paths = [\"data\\\\external\\\\mun\", \"data\\\\external\\\\ncm\"]\n",
    "batch_size = 30000\n",
    "years       = [\"2023\"]     \n",
    "\n",
    "for base_path in base_paths:\n",
    "    for paths in os.listdir(base_path):\n",
    "        path_end                = os.path.join(base_path, paths)\n",
    "        for file_path in os.listdir(path_end):\n",
    "            if file_path.endswith(\".csv\"):\n",
    "                \n",
    "                year = \"\".join([n for n in os.path.basename(file_path) if n.isdigit()])\n",
    "                if year not in years:\n",
    "                    continue\n",
    "                \n",
    "                # Lê o arquivo CSV\n",
    "                file_path       = os.path.join(path_end, file_path)\n",
    "                df              = pd.read_csv(file_path, sep=\";\", encoding=\"latin1\", low_memory=False)\n",
    "                columns         = df.columns\n",
    "                print(f\"Arquivo {file_path} lido com sucesso.\")\n",
    "                \n",
    "                # Cria o cabeçalho da query de inserção\n",
    "                columns_lower   = [col.lower() for col in columns.to_list()]\n",
    "                placeholders    = \", \".join([\"%s\"] * len(columns_lower))\n",
    "                tabela          = f\"{os.path.basename(base_path).lower()}_{os.path.basename(path_end).lower()}\"\n",
    "                template        = Template(\"INSERT INTO {{ tabela }} ({{ cols|join(', ') }}) VALUES ({{ placeholders }})\")\n",
    "                query_header    = template.render(tabela=tabela, cols=columns_lower, placeholders=placeholders)\n",
    "                \n",
    "                # Inserção em batch de x em x linhas\n",
    "                rows            = df.to_numpy()\n",
    "                for i in range(0, len(rows), batch_size):\n",
    "                    batch       = rows[i:i+batch_size]\n",
    "                    params      = [tuple([str(item) for item in row]) for row in batch]\n",
    "                    db_manager.create_batch(query_header, params)\n",
    "                    print(f\"Lote de linhas {i} a {i+len(batch)-1} inserido com sucesso.\")\n"
   ]
  },
  {
   "cell_type": "code",
   "execution_count": 1,
   "id": "31908e53",
   "metadata": {},
   "outputs": [
    {
     "data": {
      "text/plain": [
       "{'years': ['2019', ' 2023']}"
      ]
     },
     "execution_count": 1,
     "metadata": {},
     "output_type": "execute_result"
    }
   ],
   "source": [
    "import os\n",
    "os.chdir(\"../\")\n",
    "\n",
    "from modules.Config import years, config\n",
    "\n",
    "years"
   ]
  },
  {
   "cell_type": "code",
   "execution_count": 2,
   "id": "e6de0d0b",
   "metadata": {},
   "outputs": [
    {
     "data": {
      "text/plain": [
       "{'db': {'host': '\"db2\" # localhost',\n",
       "  'port': 5432,\n",
       "  'user': 'postgres',\n",
       "  'password': 'postgres',\n",
       "  'database': 'comexstat'},\n",
       " 'bath_size': '30000'}"
      ]
     },
     "execution_count": 2,
     "metadata": {},
     "output_type": "execute_result"
    }
   ],
   "source": [
    "config"
   ]
  }
 ],
 "metadata": {
  "kernelspec": {
   "display_name": "DataScience",
   "language": "python",
   "name": "python3"
  },
  "language_info": {
   "codemirror_mode": {
    "name": "ipython",
    "version": 3
   },
   "file_extension": ".py",
   "mimetype": "text/x-python",
   "name": "python",
   "nbconvert_exporter": "python",
   "pygments_lexer": "ipython3",
   "version": "3.11.11"
  }
 },
 "nbformat": 4,
 "nbformat_minor": 5
}
