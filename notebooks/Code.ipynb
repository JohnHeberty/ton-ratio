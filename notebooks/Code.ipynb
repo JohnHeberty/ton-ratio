{
 "cells": [
  {
   "cell_type": "markdown",
   "id": "b8f76dc0",
   "metadata": {},
   "source": [
    "# VOLTANDO UMA PASTA PARA TRAZ"
   ]
  },
  {
   "cell_type": "code",
   "execution_count": 1,
   "id": "f47b52bf",
   "metadata": {},
   "outputs": [],
   "source": [
    "import os\n",
    "os.chdir(\"../\")"
   ]
  },
  {
   "cell_type": "markdown",
   "id": "34bdd2f8",
   "metadata": {},
   "source": [
    "# DOWNLOAD DOS ARQUIVOS"
   ]
  },
  {
   "cell_type": "code",
   "execution_count": null,
   "id": "29f26e7b",
   "metadata": {},
   "outputs": [],
   "source": [
    "from modules.ComexStatDownloader import ComexStatDownloader\n",
    "\n",
    "CSD = ComexStatDownloader()\n",
    "CSD.download_files()"
   ]
  },
  {
   "cell_type": "markdown",
   "id": "152f1fd4",
   "metadata": {},
   "source": [
    "# CONEXÃO COM BANCO"
   ]
  },
  {
   "cell_type": "code",
   "execution_count": null,
   "id": "be6dbd6d",
   "metadata": {},
   "outputs": [],
   "source": [
    "from modules.Database.postgres_connection import PostgresConnection\n",
    "from modules.Database.database_manager import DatabaseManager\n",
    "\n",
    "host    = \"localhost\"\n",
    "db      = \"comexstat\"\n",
    "user    = \"postgres\"\n",
    "pwd     = \"postgres\"  # Substitua pela sua senha real\n",
    "\n",
    "# Certifique-se de definir as variáveis host, db, user, pwd antes de usar\n",
    "conn = PostgresConnection(host, db, user, pwd)\n",
    "conn.connect()\n",
    "db_manager = DatabaseManager(conn)\n",
    "\n",
    "# Cria as tabelas no banco de dados\n",
    "with open(\"repository\\\\querys\\\\create_table.sql\", \"r\") as file:\n",
    "    create_tables_sql = file.read()\n",
    "    db_manager.execute_raw(create_tables_sql)\n",
    "\n",
    "# Insere os dados no banco de dados\n",
    "base_paths = [\"data\\\\external\\\\mun\", \"data\\\\external\\\\ncm\"]\n",
    "\n",
    "for file in os.listdir(\"repository\\\\data\"):\n",
    "    if file.endswith(\".csv\"):\n",
    "        file_path = os.path.join(\"repository\\\\data\", file)\n",
    "        with open(file_path, \"r\") as f:\n",
    "            insert_sql = f.read()\n",
    "            db_manager.execute_raw(insert_sql)"
   ]
  },
  {
   "cell_type": "code",
   "execution_count": null,
   "id": "e95fa459",
   "metadata": {},
   "outputs": [],
   "source": []
  },
  {
   "cell_type": "code",
   "execution_count": null,
   "id": "7aea42db",
   "metadata": {},
   "outputs": [],
   "source": []
  }
 ],
 "metadata": {
  "kernelspec": {
   "display_name": "DataScience",
   "language": "python",
   "name": "python3"
  },
  "language_info": {
   "codemirror_mode": {
    "name": "ipython",
    "version": 3
   },
   "file_extension": ".py",
   "mimetype": "text/x-python",
   "name": "python",
   "nbconvert_exporter": "python",
   "pygments_lexer": "ipython3",
   "version": "3.11.11"
  }
 },
 "nbformat": 4,
 "nbformat_minor": 5
}
